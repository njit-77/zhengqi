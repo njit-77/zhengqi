{
 "cells": [
  {
   "cell_type": "code",
   "execution_count": null,
   "metadata": {},
   "outputs": [],
   "source": [
    "from sklearn.model_selection import train_test_split\n",
    "from sklearn.metrics import mean_squared_error\n",
    "import numpy as np  # 导入numpy库\n",
    "import pandas as pd  # 导入pandas库\n",
    "from sklearn.ensemble import GradientBoostingRegressor  # 集成方法回归库\n",
    "from sklearn.model_selection import GridSearchCV  # 导入交叉检验库\n",
    "import matplotlib.pyplot as plt  # 导入图形展示库\n",
    "from sklearn.ensemble import GradientBoostingRegressor\n",
    "\n",
    "TRAIN_DATA_PATH = './data/zhengqi_train.txt'\n",
    "TEST_DATA_PATH = './data/zhengqi_test.txt'\n",
    "\n",
    "\n",
    "def LoadData():\n",
    "    # load data from txt file\n",
    "    train_data = pd.read_csv(TRAIN_DATA_PATH, sep='\\t')\n",
    "    test_data = pd.read_csv(TEST_DATA_PATH, sep='\\t')\n",
    "    return (train_data, test_data)\n",
    "\n",
    "def main():\n",
    "    (train_data, test_data) = LoadData()\n",
    "\n",
    "    train_data_x = train_data.drop(['target'], axis=1)\n",
    "    train_data_y = train_data['target']\n",
    "\n",
    "    if True:\n",
    "        X_train, X_test, Y_train, Y_test = train_test_split(train_data_x, train_data_y, test_size=0.2, random_state=40)\n",
    "        model_gbr = GradientBoostingRegressor()  # 建立GradientBoostingRegressor回归对象\n",
    "        if True:\n",
    "            parameters = {'learning_rate': [0.001, 0.003, 0.01, 0.03, 0.1, 0.3, 1],\n",
    "                          'loss': ['ls', 'lad', 'huber', 'quantile'],\n",
    "                          'max_depth': [1, 3, 9, 12, 15, 18, 21],\n",
    "                          'max_features': ['sqrt'],\n",
    "                          'min_samples_leaf': [2, 4, 6, 8, 10, 12, 14],\n",
    "                          'min_samples_split': [10, 20, 30, 40, 50, 60, 70],\n",
    "                          'n_estimators': [100, 200, 300, 400, 500, 600, 700],\n",
    "                          'random_state': [10, 20, 30, 40, 50, 60, 70],\n",
    "                          'subsample': [0.1, 0.3, 0.6, 0.9],\n",
    "                          'alpha': [0.1, 0.3]}  # 定义要优化的参数信息            \n",
    "            model_gs = GridSearchCV(estimator=model_gbr, param_grid=parameters, cv=5)  # 建立交叉检验模型对象\n",
    "            model_gs.fit(X_train, Y_train)  # 训练交叉检验模型\n",
    "            print('Best score is:', model_gs.best_score_)  # 获得交叉检验模型得出的最优得分\n",
    "            print('Best parameter is:', model_gs.best_params_)  # 获得交叉检验模型得出的最优参数\n",
    "\n",
    "            model_best = model_gs.best_estimator_  # 获得交叉检验模型得出的最优模型对象\n",
    "            model_best.fit(X_train, Y_train)  # 训练最优模型\n",
    "            Y_pred = model_best.predict(X_test)\n",
    "            print(mean_squared_error(Y_test, Y_pred))\n",
    "\n",
    "    if False:\n",
    "        X_train, X_test, Y_train, Y_test = train_test_split(train_data_x, train_data_y, test_size=0.2, random_state=40)\n",
    "        params = {'learning_rate': 0.03, 'loss': 'huber', 'max_depth': 14, 'max_features': 'sqrt',\n",
    "                  'min_samples_leaf': 10, 'min_samples_split': 40, 'n_estimators': 300,\n",
    "                  'random_state': 10, 'subsample': 0.8}\n",
    "        clf = GradientBoostingRegressor(**params)\n",
    "        clf.fit(X_train, Y_train)\n",
    "        Y_pred = clf.predict(X_test)\n",
    "        print(mean_squared_error(Y_test, Y_pred))\n",
    "\n",
    "    '''结果预测'''\n",
    "    if False:\n",
    "        test_data_y = clf.predict(test_data)\n",
    "        res_pd = pd.DataFrame(test_data_y, columns=['target'])\n",
    "        res_pd.to_csv(\"./submit/njit_77.txt\", index=False, header=False)\n",
    "\n",
    "if __name__ == '__main__':\n",
    "    main()"
   ]
  },
  {
   "cell_type": "code",
   "execution_count": 35,
   "metadata": {},
   "outputs": [
    {
     "name": "stdout",
     "output_type": "stream",
     "text": [
      "0.09127313026288589\n"
     ]
    },
    {
     "data": {
      "image/png": "[encoded data removed]",
      "text/plain": [
       "<Figure size 864x432 with 1 Axes>"
      ]
     },
     "metadata": {},
     "output_type": "display_data"
    }
   ],
   "source": [
    "import pandas as pd\n",
    "import numpy as np\n",
    "import matplotlib.pyplot as plt\n",
    "from sklearn.model_selection import train_test_split\n",
    "from sklearn.metrics import mean_squared_error\n",
    "from sklearn.decomposition import pca\n",
    "from sklearn.ensemble import GradientBoostingRegressor\n",
    "\n",
    "TRAIN_DATA_PATH = './data/zhengqi_train.txt'\n",
    "TEST_DATA_PATH = './data/zhengqi_test.txt'\n",
    "\n",
    "\n",
    "def LoadData():\n",
    "    # load data from txt file\n",
    "    train_data = pd.read_csv(TRAIN_DATA_PATH, sep='\\t')\n",
    "    test_data = pd.read_csv(TEST_DATA_PATH, sep='\\t')\n",
    "    return (train_data, test_data)\n",
    "\n",
    "\n",
    "def NormalizeData(train_data):\n",
    "    mean = np.mean(train_data, axis=0)\n",
    "    std = np.std(train_data, axis=0)\n",
    "    return (train_data - mean)/std\n",
    "\n",
    "def DrawLearningRate(clf, params, train_data, X_test, y_test, y_pred):\n",
    "    ###############################################################################\n",
    "    # Plot training deviance\n",
    "\n",
    "    # compute test set deviance\n",
    "    test_score = np.zeros((params['n_estimators'],), dtype=np.float64)\n",
    "\n",
    "    for i, y_pred in enumerate(clf.staged_predict(X_test)):\n",
    "        test_score[i] = clf.loss_(y_test, y_pred)\n",
    "\n",
    "    plt.figure(figsize=(12, 6))\n",
    "    plt.subplot(1, 2, 1)\n",
    "    plt.title('Deviance')\n",
    "    plt.plot(np.arange(params['n_estimators']) + 1, clf.train_score_, 'b-',\n",
    "             label='Training Set Deviance')\n",
    "    plt.plot(np.arange(params['n_estimators']) + 1, test_score, 'r-',\n",
    "             label='Test Set Deviance')\n",
    "    plt.legend(loc='upper right')\n",
    "    plt.xlabel('Boosting Iterations')\n",
    "    plt.ylabel('Deviance')    \n",
    "    \n",
    "def main():\n",
    "    (train_data, test_data) = LoadData()\n",
    "\n",
    "    train_data_x = train_data.drop(['target'], axis=1)\n",
    "    train_data_y = train_data['target']\n",
    "\n",
    "    train_data_x = NormalizeData(train_data_x)\n",
    "    \n",
    "    X_train, X_test, Y_train, Y_test = train_test_split(train_data_x, train_data_y, test_size=0.2, random_state=40)\n",
    "    params={'learning_rate':0.03, 'loss':'huber', 'max_depth':14, 'max_features':'sqrt', 'min_samples_leaf':10,  \n",
    "            'min_samples_split':40, 'n_estimators':300, 'random_state':10, 'subsample':0.8}\n",
    "    clf = GradientBoostingRegressor(**params)\n",
    "    clf.fit(X_train, Y_train)\n",
    "    Y_pred = clf.predict(X_test)\n",
    "    print(mean_squared_error(Y_test, Y_pred))\n",
    "\n",
    "    DrawLearningRate(clf, params, train_data, X_test, Y_test, Y_pred)\n",
    "    \n",
    "    '''结果预测'''\n",
    "    test_data_y = clf.predict(test_data)\n",
    "\n",
    "    res_pd = pd.DataFrame(test_data_y, columns=['target'])\n",
    "    res_pd.to_csv(\"./submit/njit_77.txt\", index=False, header=False)\n",
    "\n",
    "if __name__ == '__main__':\n",
    "    main()"
   ]
  },
  {
   "cell_type": "code",
   "execution_count": null,
   "metadata": {},
   "outputs": [],
   "source": []
  },
  {
   "cell_type": "code",
   "execution_count": null,
   "metadata": {},
   "outputs": [],
   "source": []
  },
  {
   "cell_type": "code",
   "execution_count": null,
   "metadata": {},
   "outputs": [],
   "source": []
  },
  {
   "cell_type": "code",
   "execution_count": null,
   "metadata": {},
   "outputs": [],
   "source": []
  },
  {
   "cell_type": "code",
   "execution_count": null,
   "metadata": {},
   "outputs": [],
   "source": []
  },
  {
   "cell_type": "code",
   "execution_count": null,
   "metadata": {},
   "outputs": [],
   "source": []
  },
  {
   "cell_type": "code",
   "execution_count": null,
   "metadata": {},
   "outputs": [],
   "source": []
  },
  {
   "cell_type": "code",
   "execution_count": null,
   "metadata": {},
   "outputs": [],
   "source": []
  },
  {
   "cell_type": "code",
   "execution_count": null,
   "metadata": {},
   "outputs": [],
   "source": []
  },
  {
   "cell_type": "code",
   "execution_count": null,
   "metadata": {},
   "outputs": [],
   "source": []
  },
  {
   "cell_type": "code",
   "execution_count": null,
   "metadata": {},
   "outputs": [],
   "source": []
  },
  {
   "cell_type": "code",
   "execution_count": null,
   "metadata": {},
   "outputs": [],
   "source": []
  },
  {
   "cell_type": "code",
   "execution_count": null,
   "metadata": {},
   "outputs": [],
   "source": []
  },
  {
   "cell_type": "code",
   "execution_count": null,
   "metadata": {},
   "outputs": [],
   "source": []
  }
 ],
 "metadata": {
  "kernelspec": {
   "display_name": "Python 3",
   "language": "python",
   "name": "python3"
  },
  "language_info": {
   "codemirror_mode": {
    "name": "ipython",
    "version": 3
   },
   "file_extension": ".py",
   "mimetype": "text/x-python",
   "name": "python",
   "nbconvert_exporter": "python",
   "pygments_lexer": "ipython3",
   "version": "3.6.5"
  }
 },
 "nbformat": 4,
 "nbformat_minor": 2
}
